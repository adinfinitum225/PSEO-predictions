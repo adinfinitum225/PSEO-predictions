{
  "nbformat": 4,
  "nbformat_minor": 0,
  "metadata": {
    "colab": {
      "name": "s3_jdbc_postgres.ipynb",
      "provenance": [],
      "collapsed_sections": []
    },
    "kernelspec": {
      "name": "python3",
      "display_name": "Python 3"
    },
    "language_info": {
      "name": "python"
    }
  },
  "cells": [
    {
      "cell_type": "code",
      "execution_count": 1,
      "metadata": {
        "colab": {
          "base_uri": "https://localhost:8080/"
        },
        "id": "zxFAJ6aP16Mg",
        "outputId": "b320e595-13a1-4a02-b37c-21a11c8fb62e"
      },
      "outputs": [
        {
          "output_type": "stream",
          "name": "stdout",
          "text": [
            "\r0% [Working]\r            \rGet:1 https://developer.download.nvidia.com/compute/cuda/repos/ubuntu1804/x86_64  InRelease [1,581 B]\n",
            "\r0% [Waiting for headers] [Connecting to security.ubuntu.com (185.125.190.39)] [\r0% [Waiting for headers] [Connecting to security.ubuntu.com (185.125.190.39)] [\r                                                                               \rGet:2 https://cloud.r-project.org/bin/linux/ubuntu bionic-cran40/ InRelease [3,626 B]\n",
            "\r                                                                               \rIgn:3 https://developer.download.nvidia.com/compute/machine-learning/repos/ubuntu1804/x86_64  InRelease\n",
            "Hit:4 https://developer.download.nvidia.com/compute/machine-learning/repos/ubuntu1804/x86_64  Release\n",
            "Hit:5 http://archive.ubuntu.com/ubuntu bionic InRelease\n",
            "Get:6 http://archive.ubuntu.com/ubuntu bionic-updates InRelease [88.7 kB]\n",
            "Get:7 http://security.ubuntu.com/ubuntu bionic-security InRelease [88.7 kB]\n",
            "Get:8 https://developer.download.nvidia.com/compute/cuda/repos/ubuntu1804/x86_64  Packages [748 kB]\n",
            "Get:9 http://ppa.launchpad.net/c2d4u.team/c2d4u4.0+/ubuntu bionic InRelease [15.9 kB]\n",
            "Get:10 http://archive.ubuntu.com/ubuntu bionic-backports InRelease [74.6 kB]\n",
            "Get:11 https://cloud.r-project.org/bin/linux/ubuntu bionic-cran40/ Packages [85.2 kB]\n",
            "Hit:12 http://ppa.launchpad.net/cran/libgit2/ubuntu bionic InRelease\n",
            "Get:13 http://ppa.launchpad.net/deadsnakes/ppa/ubuntu bionic InRelease [15.9 kB]\n",
            "Get:15 http://ppa.launchpad.net/graphics-drivers/ppa/ubuntu bionic InRelease [21.3 kB]\n",
            "Get:16 http://archive.ubuntu.com/ubuntu bionic-updates/universe amd64 Packages [2,277 kB]\n",
            "Get:17 http://archive.ubuntu.com/ubuntu bionic-updates/restricted amd64 Packages [966 kB]\n",
            "Get:18 http://archive.ubuntu.com/ubuntu bionic-updates/main amd64 Packages [3,195 kB]\n",
            "Get:19 http://ppa.launchpad.net/c2d4u.team/c2d4u4.0+/ubuntu bionic/main Sources [1,957 kB]\n",
            "Get:20 http://security.ubuntu.com/ubuntu bionic-security/main amd64 Packages [2,761 kB]\n",
            "Get:21 http://ppa.launchpad.net/c2d4u.team/c2d4u4.0+/ubuntu bionic/main amd64 Packages [1,004 kB]\n",
            "Get:22 http://security.ubuntu.com/ubuntu bionic-security/universe amd64 Packages [1,503 kB]\n",
            "Get:23 http://security.ubuntu.com/ubuntu bionic-security/restricted amd64 Packages [932 kB]\n",
            "Get:24 http://ppa.launchpad.net/deadsnakes/ppa/ubuntu bionic/main amd64 Packages [45.3 kB]\n",
            "Get:25 http://ppa.launchpad.net/graphics-drivers/ppa/ubuntu bionic/main amd64 Packages [44.3 kB]\n",
            "Fetched 15.8 MB in 6s (2,581 kB/s)\n",
            "Reading package lists... Done\n"
          ]
        }
      ],
      "source": [
        "import os\n",
        "# Find the latest version of spark 3.0  from http://www.apache.org/dist/spark/ and enter as the spark version\n",
        "# For example:\n",
        "# spark_version = 'spark-3.0.3'\n",
        "spark_version = 'spark-3.1.3'\n",
        "os.environ['SPARK_VERSION']=spark_version\n",
        "\n",
        "# Install Spark and Java\n",
        "!apt-get update\n",
        "!apt-get install openjdk-11-jdk-headless -qq > /dev/null\n",
        "!wget -q http://www.apache.org/dist/spark/$SPARK_VERSION/$SPARK_VERSION-bin-hadoop2.7.tgz\n",
        "!tar xf $SPARK_VERSION-bin-hadoop2.7.tgz\n",
        "!pip install -q findspark\n",
        "\n",
        "# Set Environment Variables\n",
        "import os\n",
        "os.environ[\"JAVA_HOME\"] = \"/usr/lib/jvm/java-11-openjdk-amd64\"\n",
        "os.environ[\"SPARK_HOME\"] = f\"/content/{spark_version}-bin-hadoop2.7\"\n",
        "\n",
        "# Start a SparkSession\n",
        "import findspark\n",
        "findspark.init()"
      ]
    },
    {
      "cell_type": "code",
      "source": [
        "from pyspark.sql import SparkSession\n",
        "!wget https://jdbc.postgresql.org/download/postgresql-42.2.25.jre7.jar\n",
        "spark = SparkSession.builder.appName('segment1').config('spark.driver.extraClassPath', '/content/postgresql-42.2.25.jre7.jar').config('spark.driver.memory', '100g').getOrCreate()"
      ],
      "metadata": {
        "colab": {
          "base_uri": "https://localhost:8080/"
        },
        "id": "e58wzyfk1-f0",
        "outputId": "65b4a532-619a-4110-a544-7e04e156891d"
      },
      "execution_count": 2,
      "outputs": [
        {
          "output_type": "stream",
          "name": "stdout",
          "text": [
            "--2022-05-13 13:52:51--  https://jdbc.postgresql.org/download/postgresql-42.2.25.jre7.jar\n",
            "Resolving jdbc.postgresql.org (jdbc.postgresql.org)... 72.32.157.228, 2001:4800:3e1:1::228\n",
            "Connecting to jdbc.postgresql.org (jdbc.postgresql.org)|72.32.157.228|:443... connected.\n",
            "HTTP request sent, awaiting response... 200 OK\n",
            "Length: 984862 (962K) [application/java-archive]\n",
            "Saving to: ‘postgresql-42.2.25.jre7.jar’\n",
            "\n",
            "postgresql-42.2.25. 100%[===================>] 961.78K  5.82MB/s    in 0.2s    \n",
            "\n",
            "2022-05-13 13:52:52 (5.82 MB/s) - ‘postgresql-42.2.25.jre7.jar’ saved [984862/984862]\n",
            "\n"
          ]
        }
      ]
    },
    {
      "cell_type": "code",
      "source": [
        "from pyspark import SparkFiles\n",
        "url = 'https://jamesliu-databootcamp-bucket.s3.us-east-2.amazonaws.com/pseof_all.csv'\n",
        "spark.sparkContext.addFile(url)\n",
        "pseof_df = spark.read.csv(SparkFiles.get('pseof_all.csv'), sep=',', header=True)\n",
        "url = 'https://jamesliu-databootcamp-bucket.s3.us-east-2.amazonaws.com/pseoe_all.csv'\n",
        "spark.sparkContext.addFile(url)\n",
        "pseoe_df = spark.read.csv(SparkFiles.get('pseoe_all.csv'), sep=',', header=True)"
      ],
      "metadata": {
        "id": "kLTdD9xT2KUB"
      },
      "execution_count": 3,
      "outputs": []
    },
    {
      "cell_type": "code",
      "source": [
        "pseof_df.show(20)\n",
        "pseoe_df.show(20)"
      ],
      "metadata": {
        "colab": {
          "base_uri": "https://localhost:8080/"
        },
        "id": "wDeOP_tX3Hfd",
        "outputId": "369af4d4-ef69-4ecf-b5da-50392c536482"
      },
      "execution_count": 4,
      "outputs": [
        {
          "output_type": "stream",
          "name": "stdout",
          "text": [
            "+--------------+----------+-----------+------------+---------+-------+-----------+-----------------+---------+---------+---------+--------+------------+--------------------+------------+--------------------+-------------+---------------------+------------+------------+-------------+-------------------+---------------------------+-------------------+---------------------------+--------------------+----------------------------+-------------------+-------------------+--------------------+\n",
            "|agg_level_pseo|inst_level|institution|degree_level|cip_level|cipcode|grad_cohort|grad_cohort_years|geo_level|geography|ind_level|industry|y1_grads_emp|y1_grads_emp_instate|y5_grads_emp|y5_grads_emp_instate|y10_grads_emp|y10_grads_emp_instate|y1_grads_nme|y5_grads_nme|y10_grads_nme|status_y1_grads_emp|status_y1_grads_emp_instate|status_y5_grads_emp|status_y5_grads_emp_instate|status_y10_grads_emp|status_y10_grads_emp_instate|status_y1_grads_nme|status_y5_grads_nme|status_y10_grads_nme|\n",
            "+--------------+----------+-----------+------------+---------+-------+-----------+-----------------+---------+---------+---------+--------+------------+--------------------+------------+--------------------+-------------+---------------------+------------+------------+-------------+-------------------+---------------------------+-------------------+---------------------------+--------------------+----------------------------+-------------------+-------------------+--------------------+\n",
            "|            38|         I|   00105100|          05|        A|     00|       0000|                3|        N|       00|        A|      00|       49897|               27741|       32189|               18740|        20282|                12062|       30983|       10235|         7281|                  1|                          1|                  1|                          1|                   1|                           1|                  1|                  1|                   1|\n",
            "|            38|         I|   00105100|          07|        A|     00|       0000|                5|        N|       00|        A|      00|       14182|                8311|        8975|                5023|         3899|                 2180|        4726|        2424|         1149|                  1|                          1|                  1|                          1|                   1|                           1|                  1|                  1|                   1|\n",
            "|            38|         I|   00105100|          17|        A|     00|       0000|                5|        N|       00|        A|      00|        2238|                 992|        1401|                 547|          727|                  232|         478|         300|          191|                  1|                          1|                  1|                          1|                   1|                           1|                  1|                  1|                   1|\n",
            "|            38|         I|   00105100|          18|        A|     00|       0000|                5|        N|       00|        A|      00|        1987|                1208|        1208|                 795|          418|                  290|         734|         379|          256|                  1|                          1|                  1|                          1|                   1|                           1|                  1|                  1|                   1|\n",
            "|            38|         I|   00105200|          02|        A|     00|       0000|                5|        N|       00|        A|      00|         356|                 236|         126|                  49|         null|                 null|          92|          10|         null|                  1|                          1|                  1|                          1|                  -1|                          -1|                  1|                  1|                  -1|\n",
            "|            38|         I|   00105200|          05|        A|     00|       0000|                3|        N|       00|        A|      00|       12865|               10844|        4392|                2988|         null|                 null|        6369|        1244|         null|                  1|                          1|                  1|                          1|                  -1|                          -1|                  1|                  1|                  -1|\n",
            "|            38|         I|   00105200|          07|        A|     00|       0000|                5|        N|       00|        A|      00|        7461|                4797|         927|                 424|         null|                 null|        1404|         126|         null|                  1|                          1|                  1|                          1|                  -1|                          -1|                  1|                  1|                  -1|\n",
            "|            38|         I|   00105200|          17|        A|     00|       0000|                5|        N|       00|        A|      00|         761|                 266|          44|                  21|         null|                 null|         245|          21|         null|                  1|                          1|                  1|                          1|                  -1|                          -1|                  1|                  1|                  -1|\n",
            "|            38|         I|   00105200|          18|        A|     00|       0000|                5|        N|       00|        A|      00|        1417|                 514|         115|                  47|         null|                 null|         579|           6|         null|                  1|                          1|                  1|                          1|                  -1|                          -1|                  1|                  1|                  -1|\n",
            "|            38|         I|   00105500|          01|        A|     00|       0000|                5|        N|       00|        A|      00|        null|                null|        null|                null|         null|                 null|        null|        null|         null|                  5|                          5|                 -1|                         -1|                  -1|                          -1|                  5|                 -1|                  -1|\n",
            "|            38|         I|   00105500|          05|        A|     00|       0000|                3|        N|       00|        A|      00|        8795|                7012|        4493|                3171|         2065|                 1384|        3934|        1892|          993|                  1|                          1|                  1|                          1|                   1|                           1|                  1|                  1|                   1|\n",
            "|            38|         I|   00105500|          07|        A|     00|       0000|                5|        N|       00|        A|      00|        2549|                1760|        1101|                 640|         null|                 null|        1152|         512|         null|                  1|                          1|                  1|                          1|                  -1|                          -1|                  1|                  1|                  -1|\n",
            "|            38|         I|   00105500|          17|        A|     00|       0000|                5|        N|       00|        A|      00|         392|                 119|          87|                  34|         null|                 null|          84|          37|         null|                  1|                          1|                  1|                          1|                  -1|                          -1|                  1|                  1|                  -1|\n",
            "|            38|         I|   00105500|          18|        A|     00|       0000|                5|        N|       00|        A|      00|          77|                  43|        null|                null|         null|                 null|           3|        null|         null|                  1|                          1|                  5|                          5|                  -1|                          -1|                  1|                  5|                  -1|\n",
            "|            38|         I|   00108100|          05|        A|     00|       0000|                3|        N|       00|        A|      00|       96152|               69742|       36596|               23942|         8176|                 5115|       42967|       12086|         2763|                  1|                          1|                  1|                          1|                   1|                           1|                  1|                  1|                   1|\n",
            "|            38|         I|   00108100|          07|        A|     00|       0000|                5|        N|       00|        A|      00|       21532|               14160|        5969|                3471|         null|                 null|        6208|        1522|         null|                  1|                          1|                  1|                          1|                  -1|                          -1|                  1|                  1|                  -1|\n",
            "|            38|         I|   00108100|          17|        A|     00|       0000|                5|        N|       00|        A|      00|        3160|                1472|         884|                 316|         null|                 null|        1000|         228|         null|                  1|                          1|                  1|                          1|                  -1|                          -1|                  1|                  1|                  -1|\n",
            "|            38|         I|   00108100|          18|        A|     00|       0000|                5|        N|       00|        A|      00|         953|                 783|         275|                 181|         null|                 null|         416|          79|         null|                  1|                          1|                  1|                          1|                  -1|                          -1|                  1|                  1|                  -1|\n",
            "|            38|         I|   00108200|          01|        A|     00|       0000|                5|        N|       00|        A|      00|        2074|                1280|         892|                 531|         null|                 null|         775|         198|         null|                  1|                          1|                  1|                          1|                   5|                           5|                  1|                  1|                   5|\n",
            "|            38|         I|   00108200|          02|        A|     00|       0000|                5|        N|       00|        A|      00|         268|                 250|          76|                  53|         null|                 null|          88|          14|         null|                  1|                          1|                  1|                          1|                  -1|                          -1|                  1|                  1|                  -1|\n",
            "+--------------+----------+-----------+------------+---------+-------+-----------+-----------------+---------+---------+---------+--------+------------+--------------------+------------+--------------------+-------------+---------------------+------------+------------+-------------+-------------------+---------------------------+-------------------+---------------------------+--------------------+----------------------------+-------------------+-------------------+--------------------+\n",
            "only showing top 20 rows\n",
            "\n",
            "+--------------+----------+-----------+------------+---------+-------+-----------+-----------------+---------+---------+---------+--------+---------------+---------------+---------------+-------------+---------------+---------------+---------------+-------------+----------------+----------------+----------------+--------------+--------------+--------------+---------------+------------------+--------------------+------------------+--------------------+-------------------+---------------------+---------------------+---------------------+----------------------+\n",
            "|agg_level_pseo|inst_level|institution|degree_level|cip_level|cipcode|grad_cohort|grad_cohort_years|geo_level|geography|ind_level|industry|y1_p25_earnings|y1_p50_earnings|y1_p75_earnings|y1_grads_earn|y5_p25_earnings|y5_p50_earnings|y5_p75_earnings|y5_grads_earn|y10_p25_earnings|y10_p50_earnings|y10_p75_earnings|y10_grads_earn|y1_ipeds_count|y5_ipeds_count|y10_ipeds_count|status_y1_earnings|status_y1_grads_earn|status_y5_earnings|status_y5_grads_earn|status_y10_earnings|status_y10_grads_earn|status_y1_ipeds_count|status_y5_ipeds_count|status_y10_ipeds_count|\n",
            "+--------------+----------+-----------+------------+---------+-------+-----------+-----------------+---------+---------+---------+--------+---------------+---------------+---------------+-------------+---------------+---------------+---------------+-------------+----------------+----------------+----------------+--------------+--------------+--------------+---------------+------------------+--------------------+------------------+--------------------+-------------------+---------------------+---------------------+---------------------+----------------------+\n",
            "|            38|         I|   00105100|          05|        A|     00|       0000|                3|        N|       00|        A|      00|          25550|          37267|          51397|        49788|          38125|          51849|          70239|        32011|           46177|           64675|           96500|         20319|         81456|         42433|          28151|                 1|                   1|                 1|                   1|                  1|                    1|                    4|                    4|                     4|\n",
            "|            38|         I|   00105100|          07|        A|     00|       0000|                5|        N|       00|        A|      00|          37557|          50236|          64803|        14221|          46690|          60695|          79901|         8829|           52166|           67129|           94176|          3879|         19824|         11764|           5641|                 1|                   1|                 1|                   1|                  1|                    1|                    1|                    1|                     1|\n",
            "|            38|         I|   00105100|          17|        A|     00|       0000|                5|        N|       00|        A|      00|          51643|          68751|          90906|         2241|          63602|          82978|         106001|         1351|           69195|           91200|          123524|           565|          2786|          1704|            813|                 1|                   1|                 1|                   1|                  1|                    1|                    1|                    1|                     1|\n",
            "|            38|         I|   00105100|          18|        A|     00|       0000|                5|        N|       00|        A|      00|          45777|          71317|         106347|         2092|          61628|          94382|         130593|         1201|           67650|          102467|          152741|           454|          2956|          1693|            863|                 1|                   1|                 1|                   1|                  1|                    1|                    1|                    1|                     1|\n",
            "|            38|         I|   00105200|          02|        A|     00|       0000|                5|        N|       00|        A|      00|          24748|          35510|          46560|          307|          29001|          45471|          51264|           55|            null|            null|            null|          null|           188|            90|           null|                 1|                   1|                 1|                   1|                 -1|                   -1|                    4|                    4|                     3|\n",
            "|            38|         I|   00105200|          05|        A|     00|       0000|                3|        N|       00|        A|      00|          25668|          37875|          50483|        13172|          37330|          50004|          67960|         4109|            null|            null|            null|          null|         20434|          6310|           null|                 1|                   1|                 1|                   1|                 -1|                   -1|                    4|                    1|                     3|\n",
            "|            38|         I|   00105200|          07|        A|     00|       0000|                5|        N|       00|        A|      00|          46582|          63508|          87404|         7346|          54532|          75021|         117346|          722|            null|            null|            null|          null|         13208|          5519|           null|                 1|                   1|                 1|                   1|                 -1|                   -1|                    1|                    1|                     3|\n",
            "|            38|         I|   00105200|          17|        A|     00|       0000|                5|        N|       00|        A|      00|          39341|          52107|          77637|          657|          48161|          80692|          94605|           57|            null|            null|            null|          null|          1657|           847|           null|                 1|                   1|                 1|                   1|                 -1|                   -1|                    1|                    1|                     3|\n",
            "|            38|         I|   00105200|          18|        A|     00|       0000|                5|        N|       00|        A|      00|          51874|          63702|          96020|         1454|          64900|          87590|         110830|           99|            null|            null|            null|          null|          3087|          1175|           null|                 1|                   1|                 1|                   1|                 -1|                   -1|                    4|                    1|                     3|\n",
            "|            38|         I|   00105500|          01|        A|     00|       0000|                5|        N|       00|        A|      00|           null|           null|           null|         null|           null|           null|           null|         null|            null|            null|            null|          null|             5|          null|           null|                 5|                   5|                -1|                  -1|                 -1|                   -1|                    1|                    3|                     3|\n",
            "|            38|         I|   00105500|          05|        A|     00|       0000|                3|        N|       00|        A|      00|          30482|          43688|          58896|         9095|          41447|          58537|          78611|         4443|           50413|           73600|          102056|          2048|         15223|          8388|           5229|                 1|                   1|                 1|                   1|                  1|                    1|                    4|                    4|                     4|\n",
            "|            38|         I|   00105500|          07|        A|     00|       0000|                5|        N|       00|        A|      00|          51439|          70146|          91958|         2471|          67871|          88824|         112021|         1055|            null|            null|            null|          null|          3747|          1712|           null|                 1|                   1|                 1|                   1|                 -1|                   -1|                    1|                    1|                     3|\n",
            "|            38|         I|   00105500|          17|        A|     00|       0000|                5|        N|       00|        A|      00|          55215|          79561|         113848|          188|          69342|          97738|         126953|           97|            null|            null|            null|          null|           316|           158|           null|                 1|                   1|                 1|                   1|                 -1|                   -1|                    1|                    1|                     3|\n",
            "|            38|         I|   00105500|          18|        A|     00|       0000|                5|        N|       00|        A|      00|          79911|         103819|         121793|           65|           null|           null|           null|         null|            null|            null|            null|          null|            56|            10|           null|                 1|                   1|                 5|                   5|                 -1|                   -1|                    1|                    1|                     3|\n",
            "|            38|         I|   00108100|          05|        A|     00|       0000|                3|        N|       00|        A|      00|          27004|          38142|          53085|        96671|          38969|          53714|          74928|        36472|           48668|           70071|          105434|          8435|        122569|         66360|          29245|                 1|                   1|                 1|                   1|                  1|                    1|                    4|                    4|                     4|\n",
            "|            38|         I|   00108100|          07|        A|     00|       0000|                5|        N|       00|        A|      00|          41356|          56756|          84122|        21782|          49883|          72547|         111289|         5794|            null|            null|            null|          null|         32077|         14983|           null|                 1|                   1|                 1|                   1|                 -1|                   -1|                    4|                    4|                     3|\n",
            "|            38|         I|   00108100|          17|        A|     00|       0000|                5|        N|       00|        A|      00|          50442|          70503|         101578|         3064|          63133|          86611|         120647|          774|            null|            null|            null|          null|          4875|          2222|           null|                 1|                   1|                 1|                   1|                 -1|                   -1|                    4|                    4|                     3|\n",
            "|            38|         I|   00108100|          18|        A|     00|       0000|                5|        N|       00|        A|      00|          46436|          64114|          85940|          971|          74092|         100380|         126411|          262|            null|            null|            null|          null|          2006|           961|           null|                 1|                   1|                 1|                   1|                 -1|                   -1|                    1|                    1|                     3|\n",
            "|            38|         I|   00108200|          01|        A|     00|       0000|                5|        N|       00|        A|      00|          25605|          36828|          49051|         1904|          39698|          53151|          69544|          810|            null|            null|            null|          null|          2827|          1057|           null|                 1|                   1|                 1|                   1|                  5|                    5|                    4|                    4|                     3|\n",
            "|            38|         I|   00108200|          02|        A|     00|       0000|                5|        N|       00|        A|      00|          24673|          32050|          40791|          300|          32120|          42464|          49552|           61|            null|            null|            null|          null|           121|          null|           null|                 1|                   1|                 1|                   1|                 -1|                   -1|                    4|                    3|                     3|\n",
            "+--------------+----------+-----------+------------+---------+-------+-----------+-----------------+---------+---------+---------+--------+---------------+---------------+---------------+-------------+---------------+---------------+---------------+-------------+----------------+----------------+----------------+--------------+--------------+--------------+---------------+------------------+--------------------+------------------+--------------------+-------------------+---------------------+---------------------+---------------------+----------------------+\n",
            "only showing top 20 rows\n",
            "\n"
          ]
        }
      ]
    },
    {
      "cell_type": "code",
      "source": [
        "pseof_df = pseof_df.na.drop(how='any')"
      ],
      "metadata": {
        "id": "x2jXorOhd9nI"
      },
      "execution_count": 5,
      "outputs": []
    },
    {
      "cell_type": "code",
      "source": [
        "pseof_df.show()\n",
        "pseof_df.select('cip_level').count()"
      ],
      "metadata": {
        "colab": {
          "base_uri": "https://localhost:8080/",
          "height": 799
        },
        "id": "e-a7GdDleEcC",
        "outputId": "8afe3cf2-8de1-4547-b077-a043ed9d2647"
      },
      "execution_count": 6,
      "outputs": [
        {
          "output_type": "stream",
          "name": "stdout",
          "text": [
            "+--------------+----------+-----------+------------+---------+-------+-----------+-----------------+---------+---------+---------+--------+------------+--------------------+------------+--------------------+-------------+---------------------+------------+------------+-------------+-------------------+---------------------------+-------------------+---------------------------+--------------------+----------------------------+-------------------+-------------------+--------------------+\n",
            "|agg_level_pseo|inst_level|institution|degree_level|cip_level|cipcode|grad_cohort|grad_cohort_years|geo_level|geography|ind_level|industry|y1_grads_emp|y1_grads_emp_instate|y5_grads_emp|y5_grads_emp_instate|y10_grads_emp|y10_grads_emp_instate|y1_grads_nme|y5_grads_nme|y10_grads_nme|status_y1_grads_emp|status_y1_grads_emp_instate|status_y5_grads_emp|status_y5_grads_emp_instate|status_y10_grads_emp|status_y10_grads_emp_instate|status_y1_grads_nme|status_y5_grads_nme|status_y10_grads_nme|\n",
            "+--------------+----------+-----------+------------+---------+-------+-----------+-----------------+---------+---------+---------+--------+------------+--------------------+------------+--------------------+-------------+---------------------+------------+------------+-------------+-------------------+---------------------------+-------------------+---------------------------+--------------------+----------------------------+-------------------+-------------------+--------------------+\n",
            "|            38|         I|   00105100|          05|        A|     00|       0000|                3|        N|       00|        A|      00|       49897|               27741|       32189|               18740|        20282|                12062|       30983|       10235|         7281|                  1|                          1|                  1|                          1|                   1|                           1|                  1|                  1|                   1|\n",
            "|            38|         I|   00105100|          07|        A|     00|       0000|                5|        N|       00|        A|      00|       14182|                8311|        8975|                5023|         3899|                 2180|        4726|        2424|         1149|                  1|                          1|                  1|                          1|                   1|                           1|                  1|                  1|                   1|\n",
            "|            38|         I|   00105100|          17|        A|     00|       0000|                5|        N|       00|        A|      00|        2238|                 992|        1401|                 547|          727|                  232|         478|         300|          191|                  1|                          1|                  1|                          1|                   1|                           1|                  1|                  1|                   1|\n",
            "|            38|         I|   00105100|          18|        A|     00|       0000|                5|        N|       00|        A|      00|        1987|                1208|        1208|                 795|          418|                  290|         734|         379|          256|                  1|                          1|                  1|                          1|                   1|                           1|                  1|                  1|                   1|\n",
            "|            38|         I|   00105500|          05|        A|     00|       0000|                3|        N|       00|        A|      00|        8795|                7012|        4493|                3171|         2065|                 1384|        3934|        1892|          993|                  1|                          1|                  1|                          1|                   1|                           1|                  1|                  1|                   1|\n",
            "|            38|         I|   00108100|          05|        A|     00|       0000|                3|        N|       00|        A|      00|       96152|               69742|       36596|               23942|         8176|                 5115|       42967|       12086|         2763|                  1|                          1|                  1|                          1|                   1|                           1|                  1|                  1|                   1|\n",
            "|            38|         I|   00108200|          05|        A|     00|       0000|                3|        N|       00|        A|      00|       44518|               33019|       22491|               14835|        13277|                 8168|       17699|        7904|         5155|                  1|                          1|                  1|                          1|                   1|                           1|                  1|                  1|                   1|\n",
            "|            38|         I|   00108300|          05|        A|     00|       0000|                3|        N|       00|        A|      00|       56285|               36188|       35699|               18959|        23668|                11556|       32749|       14947|         8936|                  1|                          1|                  1|                          1|                   1|                           1|                  1|                  1|                   1|\n",
            "|            38|         I|   00134500|          03|        A|     00|       0000|                5|        N|       00|        A|      00|         292|                 216|         216|                  88|           41|                   37|         678|         105|           40|                  1|                          1|                  1|                          1|                   1|                           1|                  1|                  1|                   1|\n",
            "|            38|         I|   00134500|          05|        A|     00|       0000|                3|        N|       00|        A|      00|        3528|                2449|        2806|                1685|         1877|                 1141|        1851|         881|          607|                  1|                          1|                  1|                          1|                   1|                           1|                  1|                  1|                   1|\n",
            "|            38|         I|   00134500|          07|        A|     00|       0000|                5|        N|       00|        A|      00|        2802|                2321|        1733|                1471|          865|                  695|         477|         385|          220|                  1|                          1|                  1|                          1|                   1|                           1|                  1|                  1|                   1|\n",
            "|            38|         I|   00134600|          01|        A|     00|       0000|                5|        N|       00|        A|      00|        4399|                3503|        2342|                1696|          661|                  437|        2622|        1037|          293|                  1|                          1|                  1|                          1|                   1|                           1|                  1|                  1|                   1|\n",
            "|            38|         I|   00134600|          02|        A|     00|       0000|                5|        N|       00|        A|      00|        2049|                1689|        1181|                 933|          535|                  437|         556|         317|          225|                  1|                          1|                  1|                          1|                   1|                           1|                  1|                  1|                   1|\n",
            "|            38|         I|   00134600|          03|        A|     00|       0000|                5|        N|       00|        A|      00|        5465|                4507|        3526|                2664|         1641|                 1118|        2734|        1367|          747|                  1|                          1|                  1|                          1|                   1|                           1|                  1|                  1|                   1|\n",
            "|            38|         I|   00134800|          05|        A|     00|       0000|                3|        N|       00|        A|      00|        8868|                4998|        5435|                3069|         3857|                 2163|        3808|        1585|         1024|                  1|                          1|                  1|                          1|                   1|                           1|                  1|                  1|                   1|\n",
            "|            38|         I|   00134800|          07|        A|     00|       0000|                5|        N|       00|        A|      00|        2499|                1439|        1265|                 673|          451|                  255|        1463|         783|          390|                  1|                          1|                  1|                          1|                   1|                           1|                  1|                  1|                   1|\n",
            "|            38|         I|   00134800|          17|        A|     00|       0000|                5|        N|       00|        A|      00|         545|                 277|         291|                 118|          150|                   61|         319|         184|          121|                  1|                          1|                  1|                          1|                   1|                           1|                  1|                  1|                   1|\n",
            "|            38|         I|   00134900|          05|        A|     00|       0000|                3|        N|       00|        A|      00|       25128|               20572|       17950|               13425|        12730|                 9353|       10260|        5544|         4652|                  1|                          1|                  1|                          1|                   1|                           1|                  1|                  1|                   1|\n",
            "|            38|         I|   00134900|          07|        A|     00|       0000|                5|        N|       00|        A|      00|        7406|                5884|        4424|                3313|         2301|                 1603|        1912|        1478|          925|                  1|                          1|                  1|                          1|                   1|                           1|                  1|                  1|                   1|\n",
            "|            38|         I|   00134900|          17|        A|     00|       0000|                5|        N|       00|        A|      00|        1013|                 339|         583|                 189|          192|                   85|         288|         165|           91|                  1|                          1|                  1|                          1|                   1|                           1|                  1|                  1|                   1|\n",
            "+--------------+----------+-----------+------------+---------+-------+-----------+-----------------+---------+---------+---------+--------+------------+--------------------+------------+--------------------+-------------+---------------------+------------+------------+-------------+-------------------+---------------------------+-------------------+---------------------------+--------------------+----------------------------+-------------------+-------------------+--------------------+\n",
            "only showing top 20 rows\n",
            "\n"
          ]
        },
        {
          "output_type": "error",
          "ename": "KeyboardInterrupt",
          "evalue": "ignored",
          "traceback": [
            "\u001b[0;31m---------------------------------------------------------------------------\u001b[0m",
            "\u001b[0;31mKeyboardInterrupt\u001b[0m                         Traceback (most recent call last)",
            "\u001b[0;32m<ipython-input-6-1fbdbcaed490>\u001b[0m in \u001b[0;36m<module>\u001b[0;34m()\u001b[0m\n\u001b[1;32m      1\u001b[0m \u001b[0mpseof_df\u001b[0m\u001b[0;34m.\u001b[0m\u001b[0mshow\u001b[0m\u001b[0;34m(\u001b[0m\u001b[0;34m)\u001b[0m\u001b[0;34m\u001b[0m\u001b[0;34m\u001b[0m\u001b[0m\n\u001b[0;32m----> 2\u001b[0;31m \u001b[0mpseof_df\u001b[0m\u001b[0;34m.\u001b[0m\u001b[0mselect\u001b[0m\u001b[0;34m(\u001b[0m\u001b[0;34m'cip_level'\u001b[0m\u001b[0;34m)\u001b[0m\u001b[0;34m.\u001b[0m\u001b[0mcount\u001b[0m\u001b[0;34m(\u001b[0m\u001b[0;34m)\u001b[0m\u001b[0;34m\u001b[0m\u001b[0;34m\u001b[0m\u001b[0m\n\u001b[0m",
            "\u001b[0;32m/content/spark-3.1.3-bin-hadoop2.7/python/pyspark/sql/dataframe.py\u001b[0m in \u001b[0;36mcount\u001b[0;34m(self)\u001b[0m\n\u001b[1;32m    662\u001b[0m         \u001b[0;36m2\u001b[0m\u001b[0;34m\u001b[0m\u001b[0;34m\u001b[0m\u001b[0m\n\u001b[1;32m    663\u001b[0m         \"\"\"\n\u001b[0;32m--> 664\u001b[0;31m         \u001b[0;32mreturn\u001b[0m \u001b[0mint\u001b[0m\u001b[0;34m(\u001b[0m\u001b[0mself\u001b[0m\u001b[0;34m.\u001b[0m\u001b[0m_jdf\u001b[0m\u001b[0;34m.\u001b[0m\u001b[0mcount\u001b[0m\u001b[0;34m(\u001b[0m\u001b[0;34m)\u001b[0m\u001b[0;34m)\u001b[0m\u001b[0;34m\u001b[0m\u001b[0;34m\u001b[0m\u001b[0m\n\u001b[0m\u001b[1;32m    665\u001b[0m \u001b[0;34m\u001b[0m\u001b[0m\n\u001b[1;32m    666\u001b[0m     \u001b[0;32mdef\u001b[0m \u001b[0mcollect\u001b[0m\u001b[0;34m(\u001b[0m\u001b[0mself\u001b[0m\u001b[0;34m)\u001b[0m\u001b[0;34m:\u001b[0m\u001b[0;34m\u001b[0m\u001b[0;34m\u001b[0m\u001b[0m\n",
            "\u001b[0;32m/content/spark-3.1.3-bin-hadoop2.7/python/lib/py4j-0.10.9-src.zip/py4j/java_gateway.py\u001b[0m in \u001b[0;36m__call__\u001b[0;34m(self, *args)\u001b[0m\n\u001b[1;32m   1301\u001b[0m             \u001b[0mproto\u001b[0m\u001b[0;34m.\u001b[0m\u001b[0mEND_COMMAND_PART\u001b[0m\u001b[0;34m\u001b[0m\u001b[0;34m\u001b[0m\u001b[0m\n\u001b[1;32m   1302\u001b[0m \u001b[0;34m\u001b[0m\u001b[0m\n\u001b[0;32m-> 1303\u001b[0;31m         \u001b[0manswer\u001b[0m \u001b[0;34m=\u001b[0m \u001b[0mself\u001b[0m\u001b[0;34m.\u001b[0m\u001b[0mgateway_client\u001b[0m\u001b[0;34m.\u001b[0m\u001b[0msend_command\u001b[0m\u001b[0;34m(\u001b[0m\u001b[0mcommand\u001b[0m\u001b[0;34m)\u001b[0m\u001b[0;34m\u001b[0m\u001b[0;34m\u001b[0m\u001b[0m\n\u001b[0m\u001b[1;32m   1304\u001b[0m         return_value = get_return_value(\n\u001b[1;32m   1305\u001b[0m             answer, self.gateway_client, self.target_id, self.name)\n",
            "\u001b[0;32m/content/spark-3.1.3-bin-hadoop2.7/python/lib/py4j-0.10.9-src.zip/py4j/java_gateway.py\u001b[0m in \u001b[0;36msend_command\u001b[0;34m(self, command, retry, binary)\u001b[0m\n\u001b[1;32m   1031\u001b[0m         \u001b[0mconnection\u001b[0m \u001b[0;34m=\u001b[0m \u001b[0mself\u001b[0m\u001b[0;34m.\u001b[0m\u001b[0m_get_connection\u001b[0m\u001b[0;34m(\u001b[0m\u001b[0;34m)\u001b[0m\u001b[0;34m\u001b[0m\u001b[0;34m\u001b[0m\u001b[0m\n\u001b[1;32m   1032\u001b[0m         \u001b[0;32mtry\u001b[0m\u001b[0;34m:\u001b[0m\u001b[0;34m\u001b[0m\u001b[0;34m\u001b[0m\u001b[0m\n\u001b[0;32m-> 1033\u001b[0;31m             \u001b[0mresponse\u001b[0m \u001b[0;34m=\u001b[0m \u001b[0mconnection\u001b[0m\u001b[0;34m.\u001b[0m\u001b[0msend_command\u001b[0m\u001b[0;34m(\u001b[0m\u001b[0mcommand\u001b[0m\u001b[0;34m)\u001b[0m\u001b[0;34m\u001b[0m\u001b[0;34m\u001b[0m\u001b[0m\n\u001b[0m\u001b[1;32m   1034\u001b[0m             \u001b[0;32mif\u001b[0m \u001b[0mbinary\u001b[0m\u001b[0;34m:\u001b[0m\u001b[0;34m\u001b[0m\u001b[0;34m\u001b[0m\u001b[0m\n\u001b[1;32m   1035\u001b[0m                 \u001b[0;32mreturn\u001b[0m \u001b[0mresponse\u001b[0m\u001b[0;34m,\u001b[0m \u001b[0mself\u001b[0m\u001b[0;34m.\u001b[0m\u001b[0m_create_connection_guard\u001b[0m\u001b[0;34m(\u001b[0m\u001b[0mconnection\u001b[0m\u001b[0;34m)\u001b[0m\u001b[0;34m\u001b[0m\u001b[0;34m\u001b[0m\u001b[0m\n",
            "\u001b[0;32m/content/spark-3.1.3-bin-hadoop2.7/python/lib/py4j-0.10.9-src.zip/py4j/java_gateway.py\u001b[0m in \u001b[0;36msend_command\u001b[0;34m(self, command)\u001b[0m\n\u001b[1;32m   1198\u001b[0m \u001b[0;34m\u001b[0m\u001b[0m\n\u001b[1;32m   1199\u001b[0m         \u001b[0;32mtry\u001b[0m\u001b[0;34m:\u001b[0m\u001b[0;34m\u001b[0m\u001b[0;34m\u001b[0m\u001b[0m\n\u001b[0;32m-> 1200\u001b[0;31m             \u001b[0manswer\u001b[0m \u001b[0;34m=\u001b[0m \u001b[0msmart_decode\u001b[0m\u001b[0;34m(\u001b[0m\u001b[0mself\u001b[0m\u001b[0;34m.\u001b[0m\u001b[0mstream\u001b[0m\u001b[0;34m.\u001b[0m\u001b[0mreadline\u001b[0m\u001b[0;34m(\u001b[0m\u001b[0;34m)\u001b[0m\u001b[0;34m[\u001b[0m\u001b[0;34m:\u001b[0m\u001b[0;34m-\u001b[0m\u001b[0;36m1\u001b[0m\u001b[0;34m]\u001b[0m\u001b[0;34m)\u001b[0m\u001b[0;34m\u001b[0m\u001b[0;34m\u001b[0m\u001b[0m\n\u001b[0m\u001b[1;32m   1201\u001b[0m             \u001b[0mlogger\u001b[0m\u001b[0;34m.\u001b[0m\u001b[0mdebug\u001b[0m\u001b[0;34m(\u001b[0m\u001b[0;34m\"Answer received: {0}\"\u001b[0m\u001b[0;34m.\u001b[0m\u001b[0mformat\u001b[0m\u001b[0;34m(\u001b[0m\u001b[0manswer\u001b[0m\u001b[0;34m)\u001b[0m\u001b[0;34m)\u001b[0m\u001b[0;34m\u001b[0m\u001b[0;34m\u001b[0m\u001b[0m\n\u001b[1;32m   1202\u001b[0m             \u001b[0;32mif\u001b[0m \u001b[0manswer\u001b[0m\u001b[0;34m.\u001b[0m\u001b[0mstartswith\u001b[0m\u001b[0;34m(\u001b[0m\u001b[0mproto\u001b[0m\u001b[0;34m.\u001b[0m\u001b[0mRETURN_MESSAGE\u001b[0m\u001b[0;34m)\u001b[0m\u001b[0;34m:\u001b[0m\u001b[0;34m\u001b[0m\u001b[0;34m\u001b[0m\u001b[0m\n",
            "\u001b[0;32m/usr/lib/python3.7/socket.py\u001b[0m in \u001b[0;36mreadinto\u001b[0;34m(self, b)\u001b[0m\n\u001b[1;32m    587\u001b[0m         \u001b[0;32mwhile\u001b[0m \u001b[0;32mTrue\u001b[0m\u001b[0;34m:\u001b[0m\u001b[0;34m\u001b[0m\u001b[0;34m\u001b[0m\u001b[0m\n\u001b[1;32m    588\u001b[0m             \u001b[0;32mtry\u001b[0m\u001b[0;34m:\u001b[0m\u001b[0;34m\u001b[0m\u001b[0;34m\u001b[0m\u001b[0m\n\u001b[0;32m--> 589\u001b[0;31m                 \u001b[0;32mreturn\u001b[0m \u001b[0mself\u001b[0m\u001b[0;34m.\u001b[0m\u001b[0m_sock\u001b[0m\u001b[0;34m.\u001b[0m\u001b[0mrecv_into\u001b[0m\u001b[0;34m(\u001b[0m\u001b[0mb\u001b[0m\u001b[0;34m)\u001b[0m\u001b[0;34m\u001b[0m\u001b[0;34m\u001b[0m\u001b[0m\n\u001b[0m\u001b[1;32m    590\u001b[0m             \u001b[0;32mexcept\u001b[0m \u001b[0mtimeout\u001b[0m\u001b[0;34m:\u001b[0m\u001b[0;34m\u001b[0m\u001b[0;34m\u001b[0m\u001b[0m\n\u001b[1;32m    591\u001b[0m                 \u001b[0mself\u001b[0m\u001b[0;34m.\u001b[0m\u001b[0m_timeout_occurred\u001b[0m \u001b[0;34m=\u001b[0m \u001b[0;32mTrue\u001b[0m\u001b[0;34m\u001b[0m\u001b[0;34m\u001b[0m\u001b[0m\n",
            "\u001b[0;31mKeyboardInterrupt\u001b[0m: "
          ]
        }
      ]
    },
    {
      "cell_type": "code",
      "source": [
        "pseoe_df = pseoe_df.na.drop(how='any')\n",
        "pseoe_df.show()\n",
        "pseoe_df.select('cip_level').count()"
      ],
      "metadata": {
        "id": "E5bFKkN-erYH"
      },
      "execution_count": null,
      "outputs": []
    },
    {
      "cell_type": "code",
      "source": [
        "pseof_df.columns"
      ],
      "metadata": {
        "id": "5bmd6R9bsatn"
      },
      "execution_count": null,
      "outputs": []
    },
    {
      "cell_type": "code",
      "source": [
        "from pyspark.sql.functions import col\n",
        "cols_to_be_converted_to_int = ['agg_level_pseo',\n",
        " 'institution',\n",
        " 'degree_level',\n",
        " 'cipcode',\n",
        " 'grad_cohort',\n",
        " 'grad_cohort_years',\n",
        " 'geography',\n",
        " 'industry',\n",
        " 'y1_grads_emp',\n",
        " 'y1_grads_emp_instate',\n",
        " 'y5_grads_emp',\n",
        " 'y5_grads_emp_instate',\n",
        " 'y10_grads_emp',\n",
        " 'y10_grads_emp_instate',\n",
        " 'y1_grads_nme',\n",
        " 'y5_grads_nme',\n",
        " 'y10_grads_nme',\n",
        " 'status_y1_grads_emp',\n",
        " 'status_y1_grads_emp_instate',\n",
        " 'status_y5_grads_emp',\n",
        " 'status_y5_grads_emp_instate',\n",
        " 'status_y10_grads_emp',\n",
        " 'status_y10_grads_emp_instate',\n",
        " 'status_y1_grads_nme',\n",
        " 'status_y5_grads_nme',\n",
        " 'status_y10_grads_nme']\n",
        "test = pseof_df\n",
        "for column in cols_to_be_converted_to_int:\n",
        "  test = test.withColumn(column, col(column).cast('int'))\n",
        "pseof_df = test"
      ],
      "metadata": {
        "id": "l2QR_zmpq-f_"
      },
      "execution_count": null,
      "outputs": []
    },
    {
      "cell_type": "code",
      "source": [
        "pseof_df.printSchema()"
      ],
      "metadata": {
        "id": "DUGbZTKgr30G"
      },
      "execution_count": null,
      "outputs": []
    },
    {
      "cell_type": "code",
      "source": [
        "pseoe_df.columns"
      ],
      "metadata": {
        "id": "6tqaobyEwglj"
      },
      "execution_count": null,
      "outputs": []
    },
    {
      "cell_type": "code",
      "source": [
        "cols_to_be_converted_to_int = ['agg_level_pseo',\n",
        " 'institution',\n",
        " 'degree_level',\n",
        " 'cipcode',\n",
        " 'grad_cohort',\n",
        " 'grad_cohort_years',\n",
        " 'geography',\n",
        " 'industry',\n",
        " 'y1_p25_earnings',\n",
        " 'y1_p50_earnings',\n",
        " 'y1_p75_earnings',\n",
        " 'y1_grads_earn',\n",
        " 'y5_p25_earnings',\n",
        " 'y5_p50_earnings',\n",
        " 'y5_p75_earnings',\n",
        " 'y5_grads_earn',\n",
        " 'y10_p25_earnings',\n",
        " 'y10_p50_earnings',\n",
        " 'y10_p75_earnings',\n",
        " 'y10_grads_earn',\n",
        " 'y1_ipeds_count',\n",
        " 'y5_ipeds_count',\n",
        " 'y10_ipeds_count',\n",
        " 'status_y1_earnings',\n",
        " 'status_y1_grads_earn',\n",
        " 'status_y5_earnings',\n",
        " 'status_y5_grads_earn',\n",
        " 'status_y10_earnings',\n",
        " 'status_y10_grads_earn',\n",
        " 'status_y1_ipeds_count',\n",
        " 'status_y5_ipeds_count',\n",
        " 'status_y10_ipeds_count']\n",
        "test = pseoe_df\n",
        "for column in cols_to_be_converted_to_int:\n",
        "  test = test.withColumn(column, col(column).cast('int'))\n",
        "pseoe_df = test"
      ],
      "metadata": {
        "id": "wgj_hoxVwccV"
      },
      "execution_count": null,
      "outputs": []
    },
    {
      "cell_type": "code",
      "source": [
        "pseoe_df.printSchema()"
      ],
      "metadata": {
        "id": "Shnvft4rxCTZ"
      },
      "execution_count": null,
      "outputs": []
    },
    {
      "cell_type": "code",
      "source": [
        "from getpass import getpass\n",
        "mode = \"append\"\n",
        "password = getpass('Enter Password')\n",
        "jdbc_url=\"jdbc:postgresql://database-1-instance-1.cfqtepfdzy8v.us-east-2.rds.amazonaws.com:5432/postgres\"\n",
        "config = {\"user\":\"postgres\", \n",
        "          \"password\": password, \n",
        "          \"driver\":\"org.postgresql.Driver\"}"
      ],
      "metadata": {
        "id": "qoaweXS7m2cB"
      },
      "execution_count": null,
      "outputs": []
    },
    {
      "cell_type": "code",
      "source": [
        "pseof_df.write.jdbc(url=jdbc_url,  table='pseof', mode=mode, properties=config)"
      ],
      "metadata": {
        "id": "hC6kn7U1m6YQ"
      },
      "execution_count": null,
      "outputs": []
    },
    {
      "cell_type": "code",
      "source": [
        "pseoe_df.write.jdbc(url=jdbc_url, table='pseoe', mode=mode, properties=config)"
      ],
      "metadata": {
        "id": "Jpn-OVRPxWlr"
      },
      "execution_count": null,
      "outputs": []
    },
    {
      "cell_type": "code",
      "source": [
        "jdbcUrl = 'jdbc:postgresql://database-1-instance-1.cfqtepfdzy8v.us-east-2.rds.amazonaws.com:5432/postgres'\n",
        "connectionProperties = {\"user\":\"postgres\", \n",
        "          \"password\": 'postgres', \n",
        "          \"driver\":\"org.postgresql.Driver\"}"
      ],
      "metadata": {
        "id": "ebvffxlNvS9E"
      },
      "execution_count": 15,
      "outputs": []
    },
    {
      "cell_type": "code",
      "source": [
        "pushdown_query = \"(select * from pseoe)AS pseoe_alias\"\n",
        "df = spark.read.jdbc(url=jdbcUrl, table=pushdown_query, properties=connectionProperties)"
      ],
      "metadata": {
        "colab": {
          "base_uri": "https://localhost:8080/"
        },
        "id": "P6oAcJ2v1us3",
        "outputId": "bde2eeef-4860-49c9-b411-02e47852b491"
      },
      "execution_count": 17,
      "outputs": [
        {
          "output_type": "execute_result",
          "data": {
            "text/plain": [
              "DataFrame[agg_level_pseo: int, inst_level: string, institution: int, degree_level: int, cip_level: string, cipcode: int, grad_cohort: int, grad_cohort_years: int, geo_level: string, geography: int, ind_level: string, industry: int, y1_p25_earnings: int, y1_p50_earnings: int, y1_p75_earnings: int, y1_grads_earn: int, y5_p25_earnings: int, y5_p50_earnings: int, y5_p75_earnings: int, y5_grads_earn: int, y10_p25_earnings: int, y10_p50_earnings: int, y10_p75_earnings: int, y10_grads_earn: int, y1_ipeds_count: int, y5_ipeds_count: int, y10_ipeds_count: int, status_y1_earnings: int, status_y1_grads_earn: int, status_y5_earnings: int, status_y5_grads_earn: int, status_y10_earnings: int, status_y10_grads_earn: int, status_y1_ipeds_count: int, status_y5_ipeds_count: int, status_y10_ipeds_count: int]"
            ]
          },
          "metadata": {},
          "execution_count": 17
        }
      ]
    },
    {
      "cell_type": "code",
      "source": [
        "df.show(20)"
      ],
      "metadata": {
        "colab": {
          "base_uri": "https://localhost:8080/"
        },
        "id": "aJwFkBxm17Qf",
        "outputId": "9c357806-9d21-4c93-ca0a-83416576f7b3"
      },
      "execution_count": 18,
      "outputs": [
        {
          "output_type": "stream",
          "name": "stdout",
          "text": [
            "+--------------+----------+-----------+------------+---------+-------+-----------+-----------------+---------+---------+---------+--------+---------------+---------------+---------------+-------------+---------------+---------------+---------------+-------------+----------------+----------------+----------------+--------------+--------------+--------------+---------------+------------------+--------------------+------------------+--------------------+-------------------+---------------------+---------------------+---------------------+----------------------+\n",
            "|agg_level_pseo|inst_level|institution|degree_level|cip_level|cipcode|grad_cohort|grad_cohort_years|geo_level|geography|ind_level|industry|y1_p25_earnings|y1_p50_earnings|y1_p75_earnings|y1_grads_earn|y5_p25_earnings|y5_p50_earnings|y5_p75_earnings|y5_grads_earn|y10_p25_earnings|y10_p50_earnings|y10_p75_earnings|y10_grads_earn|y1_ipeds_count|y5_ipeds_count|y10_ipeds_count|status_y1_earnings|status_y1_grads_earn|status_y5_earnings|status_y5_grads_earn|status_y10_earnings|status_y10_grads_earn|status_y1_ipeds_count|status_y5_ipeds_count|status_y10_ipeds_count|\n",
            "+--------------+----------+-----------+------------+---------+-------+-----------+-----------------+---------+---------+---------+--------+---------------+---------------+---------------+-------------+---------------+---------------+---------------+-------------+----------------+----------------+----------------+--------------+--------------+--------------+---------------+------------------+--------------------+------------------+--------------------+-------------------+---------------------+---------------------+---------------------+----------------------+\n",
            "|            38|         I|     105100|           5|        A|      0|          0|                3|        N|        0|        A|       0|          25550|          37267|          51397|        49788|          38125|          51849|          70239|        32011|           46177|           64675|           96500|         20319|         81456|         42433|          28151|                 1|                   1|                 1|                   1|                  1|                    1|                    4|                    4|                     4|\n",
            "|            38|         I|     105100|           7|        A|      0|          0|                5|        N|        0|        A|       0|          37557|          50236|          64803|        14221|          46690|          60695|          79901|         8829|           52166|           67129|           94176|          3879|         19824|         11764|           5641|                 1|                   1|                 1|                   1|                  1|                    1|                    1|                    1|                     1|\n",
            "|            38|         I|     105100|          17|        A|      0|          0|                5|        N|        0|        A|       0|          51643|          68751|          90906|         2241|          63602|          82978|         106001|         1351|           69195|           91200|          123524|           565|          2786|          1704|            813|                 1|                   1|                 1|                   1|                  1|                    1|                    1|                    1|                     1|\n",
            "|            38|         I|     105100|          18|        A|      0|          0|                5|        N|        0|        A|       0|          45777|          71317|         106347|         2092|          61628|          94382|         130593|         1201|           67650|          102467|          152741|           454|          2956|          1693|            863|                 1|                   1|                 1|                   1|                  1|                    1|                    1|                    1|                     1|\n",
            "|            38|         I|     105500|           5|        A|      0|          0|                3|        N|        0|        A|       0|          30482|          43688|          58896|         9095|          41447|          58537|          78611|         4443|           50413|           73600|          102056|          2048|         15223|          8388|           5229|                 1|                   1|                 1|                   1|                  1|                    1|                    4|                    4|                     4|\n",
            "|            38|         I|     108100|           5|        A|      0|          0|                3|        N|        0|        A|       0|          27004|          38142|          53085|        96671|          38969|          53714|          74928|        36472|           48668|           70071|          105434|          8435|        122569|         66360|          29245|                 1|                   1|                 1|                   1|                  1|                    1|                    4|                    4|                     4|\n",
            "|            38|         I|     108200|           5|        A|      0|          0|                3|        N|        0|        A|       0|          25761|          36836|          50261|        44696|          35273|          47295|          63866|        22681|           42111|           57234|           79907|         13367|         63141|         30328|          18177|                 1|                   1|                 1|                   1|                  1|                    1|                    4|                    4|                     4|\n",
            "|            38|         I|     108300|           5|        A|      0|          0|                3|        N|        0|        A|       0|          25136|          36650|          52648|        57075|          37607|          53603|          76053|        35892|           47524|           71450|          108698|         23924|         96685|         53525|          34081|                 1|                   1|                 1|                   1|                  1|                    1|                    4|                    4|                     4|\n",
            "|            38|         I|     134500|           3|        A|      0|          0|                5|        N|        0|        A|       0|          16410|          22913|          31004|          219|          27401|          35607|          52979|          147|           33038|           46660|           68310|            85|           886|           253|            126|                 1|                   1|                 1|                   1|                  1|                    1|                    1|                    1|                     1|\n",
            "|            38|         I|     134500|           5|        A|      0|          0|                3|        N|        0|        A|       0|          22278|          31220|          41412|         3343|          30865|          40791|          53206|         2257|           34855|           47569|           63089|          1591|          5914|          3629|           2657|                 1|                   1|                 1|                   1|                  1|                    1|                    4|                    4|                     4|\n",
            "|            38|         I|     134500|           7|        A|      0|          0|                5|        N|        0|        A|       0|          37765|          46882|          56722|         2557|          41823|          52020|          63074|         1717|           46347|           55762|           69120|           834|          3364|          2139|           1070|                 1|                   1|                 1|                   1|                  1|                    1|                    1|                    1|                     1|\n",
            "|            38|         I|     134600|           1|        A|      0|          0|                5|        N|        0|        A|       0|          23228|          34444|          53483|         3759|          31377|          47138|          67873|         2218|           41460|           61544|           89726|           595|          7180|          3494|            922|                 1|                   1|                 1|                   1|                  1|                    1|                    4|                    4|                     4|\n",
            "|            38|         I|     134600|           2|        A|      0|          0|                5|        N|        0|        A|       0|          29585|          40750|          54868|         1769|          38172|          52846|          69995|         1128|           40559|           57525|           78204|           557|          2505|          1465|            803|                 1|                   1|                 1|                   1|                  1|                    1|                    4|                    4|                     4|\n",
            "|            38|         I|     134600|           3|        A|      0|          0|                5|        N|        0|        A|       0|          27298|          39992|          55209|         4950|          33585|          48008|          65281|         3321|           39385|           56210|           75930|          1544|          8158|          4746|           2220|                 1|                   1|                 1|                   1|                  1|                    1|                    4|                    4|                     4|\n",
            "|            38|         I|     134800|           5|        A|      0|          0|                3|        N|        0|        A|       0|          47273|          64449|          82293|         8169|          66213|          87019|         115013|         4715|           80545|          108770|          152534|          3432|         12613|          6895|           4838|                 1|                   1|                 1|                   1|                  1|                    1|                    4|                    4|                     1|\n",
            "|            38|         I|     134800|           7|        A|      0|          0|                5|        N|        0|        A|       0|          56073|          74278|          99804|         2158|          73700|          96595|         134723|         1296|           83851|          117769|          175920|           464|          3853|          2089|            875|                 1|                   1|                 1|                   1|                  1|                    1|                    1|                    1|                     1|\n",
            "|            38|         I|     134800|          17|        A|      0|          0|                5|        N|        0|        A|       0|          61951|          86212|         122762|          468|          84690|         114086|         162583|          291|          104832|          145182|          196388|            90|           882|           472|            244|                 1|                   1|                 1|                   1|                  1|                    1|                    1|                    1|                     1|\n",
            "|            38|         I|     134900|           5|        A|      0|          0|                3|        N|        0|        A|       0|          22893|          31925|          42735|        23427|          33393|          44951|          58479|        16088|           40167|           55027|           75352|         11287|         35582|         23367|          17451|                 1|                   1|                 1|                   1|                  1|                    1|                    4|                    4|                     4|\n",
            "|            38|         I|     134900|           7|        A|      0|          0|                5|        N|        0|        A|       0|          35754|          46099|          58788|         6783|          42525|          54309|          69493|         4482|           47291|           61027|           77927|          2253|          9042|          5839|           3118|                 1|                   1|                 1|                   1|                  1|                    1|                    1|                    1|                     1|\n",
            "|            38|         I|     134900|          17|        A|      0|          0|                5|        N|        0|        A|       0|          50256|          64375|          85348|          683|          60053|          75821|          95867|          437|           69236|           84601|          103413|           184|          1078|           676|            355|                 1|                   1|                 1|                   1|                  1|                    1|                    1|                    1|                     1|\n",
            "+--------------+----------+-----------+------------+---------+-------+-----------+-----------------+---------+---------+---------+--------+---------------+---------------+---------------+-------------+---------------+---------------+---------------+-------------+----------------+----------------+----------------+--------------+--------------+--------------+---------------+------------------+--------------------+------------------+--------------------+-------------------+---------------------+---------------------+---------------------+----------------------+\n",
            "only showing top 20 rows\n",
            "\n"
          ]
        }
      ]
    },
    {
      "cell_type": "code",
      "source": [
        ""
      ],
      "metadata": {
        "id": "jRukAktI2ta8"
      },
      "execution_count": null,
      "outputs": []
    }
  ]
}